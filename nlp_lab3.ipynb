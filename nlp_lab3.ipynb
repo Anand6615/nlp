{
 "cells": [
  {
   "cell_type": "code",
   "execution_count": 26,
   "metadata": {},
   "outputs": [],
   "source": [
    "import nltk\n",
    "import time\n",
    "import wikipediaapi \n",
    "import spacy\n",
    "from nltk.stem import PorterStemmer, SnowballStemmer\n",
    "from nltk.tokenize import word_tokenize"
   ]
  },
  {
   "cell_type": "code",
   "execution_count": 2,
   "metadata": {},
   "outputs": [],
   "source": [
    "# Step 1: Fetch Wikipedia content\n",
    "def get_wikipedia_text(page_title):\n",
    "\twiki_wiki = wikipediaapi.Wikipedia(user_agent=\"MyNLPProject/1.0\", language=\"en\")\n",
    "\tpage = wiki_wiki.page(page_title)\n",
    "\treturn page.summary if page.exists() else \"\"\n",
    "\t\n",
    "text = get_wikipedia_text(\"Python_(programming_language)\")"
   ]
  },
  {
   "cell_type": "code",
   "execution_count": 3,
   "metadata": {},
   "outputs": [
    {
     "name": "stdout",
     "output_type": "stream",
     "text": [
      "['Python', 'is', 'a', 'high-level', ',', 'general-purpose', 'programming', 'language', '.', 'Its', 'design', 'philosophy', 'emphasizes', 'code', 'readability', 'with', 'the', 'use', 'of', 'significant', 'indentation', '.', 'Python', 'is', 'dynamically', 'type-checked', 'and', 'garbage-collected', '.', 'It', 'supports', 'multiple', 'programming', 'paradigms', ',', 'including', 'structured', '(', 'particularly', 'procedural', ')', ',', 'object-oriented', 'and', 'functional', 'programming', '.', 'It', 'is', 'often', 'described', 'as', 'a', '``', 'batteries', 'included', \"''\", 'language', 'due', 'to', 'its', 'comprehensive', 'standard', 'library', '.', 'Guido', 'van', 'Rossum', 'began', 'working', 'on', 'Python', 'in', 'the', 'late', '1980s', 'as', 'a', 'successor', 'to', 'the', 'ABC', 'programming', 'language', 'and', 'first', 'released', 'it', 'in', '1991', 'as', 'Python', '0.9.0', '.', 'Python', '2.0', 'was', 'released', 'in', '2000', '.', 'Python', '3.0', ',', 'released', 'in', '2008', ',', 'was', 'a', 'major', 'revision', 'not', 'completely', 'backward-compatible', 'with', 'earlier', 'versions', '.', 'Python', '2.7.18', ',', 'released', 'in', '2020', ',', 'was', 'the', 'last', 'release', 'of', 'Python', '2', '.', 'Python', 'consistently', 'ranks', 'as', 'one', 'of', 'the', 'most', 'popular', 'programming', 'languages', ',', 'and', 'has', 'gained', 'widespread', 'use', 'in', 'the', 'machine', 'learning', 'community', '.']\n"
     ]
    }
   ],
   "source": [
    "tokens = word_tokenize(text)\n",
    "\n",
    "print(tokens)"
   ]
  },
  {
   "cell_type": "code",
   "execution_count": null,
   "metadata": {},
   "outputs": [],
   "source": [
    "stemmer = PorterStemmer()\n",
    "\n",
    "start_stem = time.time()\n",
    "\n",
    "stemmed_words = [stemmer.stem(word) for word in tokens]\n",
    "\n",
    "end_stem = time.time()"
   ]
  },
  {
   "cell_type": "code",
   "execution_count": null,
   "metadata": {},
   "outputs": [
    {
     "name": "stderr",
     "output_type": "stream",
     "text": [
      "/home/aditya/Desktop/Aditya/Tranberg USB/USB Drive/Aditya new/Aditya/CSM A/III Year/I Semester/PS_Cyber_Detective/venv/lib/python3.10/site-packages/tqdm/auto.py:21: TqdmWarning: IProgress not found. Please update jupyter and ipywidgets. See https://ipywidgets.readthedocs.io/en/stable/user_install.html\n",
      "  from .autonotebook import tqdm as notebook_tqdm\n"
     ]
    }
   ],
   "source": [
    "nlp = spacy.load(\"en_core_web_sm\")\n",
    "\n",
    "start_lem = time.time()\n",
    "\n",
    "doc = nlp(\" \".join(tokens))\n",
    "\n",
    "lemmatized_words = [token.lemma_ for token in doc]\n",
    "\n",
    "end_lem = time.time()"
   ]
  },
  {
   "cell_type": "markdown",
   "metadata": {},
   "source": [
    "## Performance"
   ]
  },
  {
   "cell_type": "code",
   "execution_count": null,
   "metadata": {},
   "outputs": [
    {
     "name": "stdout",
     "output_type": "stream",
     "text": [
      "Original Text Sample:\t['Python', 'is', 'a', 'high-level', ',', 'general-purpose', 'programming', 'language', '.', 'Its']\n",
      "Stemmed Words:\t\t['python', 'is', 'a', 'high-level', ',', 'general-purpos', 'program', 'languag', '.', 'it']\n",
      "Lemmatized Words:\t['Python', 'be', 'a', 'high', '-', 'level', ',', 'general', '-', 'purpose']\n",
      "\n",
      "Performance Analysis:\n",
      "Stemming Execution Time: 0.00648 seconds\n",
      "Lemmatization Execution Time: 0.05436 seconds\n"
     ]
    }
   ],
   "source": [
    "print(f\"Original Text Sample:\\t{tokens[:10]}\")\n",
    "print(f\"Stemmed Words:\\t\\t{stemmed_words[:10]}\")\n",
    "print(f\"Lemmatized Words:\\t{lemmatized_words[:10]}\")\n",
    "\n",
    "print(\"\\nPerformance Analysis:\")\n",
    "print(f\"Stemming Execution Time: {end_stem - start_stem:.5f} seconds\")\n",
    "print(f\"Lemmatization Execution Time: {end_lem - start_lem:.5f} seconds\")"
   ]
  },
  {
   "cell_type": "markdown",
   "metadata": {},
   "source": [
    "## Stemming vs Lemmatisation"
   ]
  },
  {
   "cell_type": "code",
   "execution_count": 18,
   "metadata": {},
   "outputs": [
    {
     "name": "stdout",
     "output_type": "stream",
     "text": [
      "Original:\tdancing\n",
      "Stemming:\tdanc\n",
      "Lemmatisation:\tdance\n"
     ]
    }
   ],
   "source": [
    "# Stemming vs lemmatisation\n",
    "\n",
    "word = \"dancing\"\n",
    "\n",
    "print(f\"Original:\\t{word}\")\n",
    "print(f\"Stemming:\\t{stemmer.stem(word)}\")\n",
    "print(f\"Lemmatisation:\\t{nlp(word)[0].lemma_}\")"
   ]
  },
  {
   "cell_type": "markdown",
   "metadata": {},
   "source": [
    "## Snowball vs Porter Stemmer"
   ]
  },
  {
   "cell_type": "code",
   "execution_count": 30,
   "metadata": {},
   "outputs": [
    {
     "name": "stdout",
     "output_type": "stream",
     "text": [
      "Porter:\t['python', 'is', 'a', 'high-level', ',', 'general-purpos', 'program', 'languag', '.', 'it', 'design', 'philosophi', 'emphas', 'code', 'readabl', 'with', 'the', 'use', 'of', 'signific', 'indent', '.', 'python', 'is', 'dynam', 'type-check', 'and', 'garbage-collect', '.', 'it', 'support', 'multipl', 'program', 'paradigm', ',', 'includ', 'structur', '(', 'particularli', 'procedur', ')', ',', 'object-ori', 'and', 'function', 'program', '.', 'it', 'is', 'often', 'describ', 'as', 'a', '``', 'batteri', 'includ', \"''\", 'languag', 'due', 'to', 'it', 'comprehens', 'standard', 'librari', '.', 'guido', 'van', 'rossum', 'began', 'work', 'on', 'python', 'in', 'the', 'late', '1980', 'as', 'a', 'successor', 'to', 'the', 'abc', 'program', 'languag', 'and', 'first', 'releas', 'it', 'in', '1991', 'as', 'python', '0.9.0', '.', 'python', '2.0', 'wa', 'releas', 'in', '2000', '.', 'python', '3.0', ',', 'releas', 'in', '2008', ',', 'wa', 'a', 'major', 'revis', 'not', 'complet', 'backward-compat', 'with', 'earlier', 'version', '.', 'python', '2.7.18', ',', 'releas', 'in', '2020', ',', 'wa', 'the', 'last', 'releas', 'of', 'python', '2', '.', 'python', 'consist', 'rank', 'as', 'one', 'of', 'the', 'most', 'popular', 'program', 'languag', ',', 'and', 'ha', 'gain', 'widespread', 'use', 'in', 'the', 'machin', 'learn', 'commun', '.']\n",
      "Snow:\t['python', 'is', 'a', 'high-level', ',', 'general-purpos', 'program', 'languag', '.', 'it', 'design', 'philosophi', 'emphas', 'code', 'readabl', 'with', 'the', 'use', 'of', 'signific', 'indent', '.', 'python', 'is', 'dynam', 'type-check', 'and', 'garbage-collect', '.', 'it', 'support', 'multipl', 'program', 'paradigm', ',', 'includ', 'structur', '(', 'particular', 'procedur', ')', ',', 'object-ori', 'and', 'function', 'program', '.', 'it', 'is', 'often', 'describ', 'as', 'a', '``', 'batteri', 'includ', \"''\", 'languag', 'due', 'to', 'it', 'comprehens', 'standard', 'librari', '.', 'guido', 'van', 'rossum', 'began', 'work', 'on', 'python', 'in', 'the', 'late', '1980s', 'as', 'a', 'successor', 'to', 'the', 'abc', 'program', 'languag', 'and', 'first', 'releas', 'it', 'in', '1991', 'as', 'python', '0.9.0', '.', 'python', '2.0', 'was', 'releas', 'in', '2000', '.', 'python', '3.0', ',', 'releas', 'in', '2008', ',', 'was', 'a', 'major', 'revis', 'not', 'complet', 'backward-compat', 'with', 'earlier', 'version', '.', 'python', '2.7.18', ',', 'releas', 'in', '2020', ',', 'was', 'the', 'last', 'releas', 'of', 'python', '2', '.', 'python', 'consist', 'rank', 'as', 'one', 'of', 'the', 'most', 'popular', 'program', 'languag', ',', 'and', 'has', 'gain', 'widespread', 'use', 'in', 'the', 'machin', 'learn', 'communiti', '.']\n",
      "\n",
      "Original: particularly\n",
      "Port: particularli\n",
      "Snow: particular\n",
      "\n",
      "Original: 1980s\n",
      "Port: 1980\n",
      "Snow: 1980s\n",
      "\n",
      "Original: was\n",
      "Port: wa\n",
      "Snow: was\n",
      "\n",
      "Original: was\n",
      "Port: wa\n",
      "Snow: was\n",
      "\n",
      "Original: was\n",
      "Port: wa\n",
      "Snow: was\n",
      "\n",
      "Original: has\n",
      "Port: ha\n",
      "Snow: has\n",
      "\n",
      "Original: community\n",
      "Port: commun\n",
      "Snow: communiti\n",
      "\n"
     ]
    }
   ],
   "source": [
    "def test(tokens):\n",
    "\n",
    "\tporter = PorterStemmer()\n",
    "\tporter_words = [porter.stem(word) for word in tokens]\n",
    "\n",
    "\tsnow = SnowballStemmer(\"english\")\n",
    "\tsnow_words = [snow.stem(word) for word in tokens]\n",
    "\t\n",
    "\tprint(f\"Porter:\\t{porter_words}\")\n",
    "\tprint(f\"Snow:\\t{snow_words}\")\n",
    "\n",
    "\tprint()\n",
    "\t\n",
    "\tfor i in range(len(tokens)):\n",
    "\t\tif(snow_words[i] != porter_words[i]):\n",
    "\t\t\tprint(f\"Original: {tokens[i]}\")\n",
    "\t\t\tprint(f\"Port: {porter_words[i]}\")\n",
    "\t\t\tprint(f\"Snow: {snow_words[i]}\")\n",
    "\t\t\tprint()\n",
    "\n",
    "\n",
    "\t\n",
    "\n",
    "test(tokens)"
   ]
  },
  {
   "cell_type": "code",
   "execution_count": null,
   "metadata": {},
   "outputs": [],
   "source": []
  }
 ],
 "metadata": {
  "kernelspec": {
   "display_name": "venv",
   "language": "python",
   "name": "python3"
  },
  "language_info": {
   "codemirror_mode": {
    "name": "ipython",
    "version": 3
   },
   "file_extension": ".py",
   "mimetype": "text/x-python",
   "name": "python",
   "nbconvert_exporter": "python",
   "pygments_lexer": "ipython3",
   "version": "3.10.7"
  }
 },
 "nbformat": 4,
 "nbformat_minor": 2
}
