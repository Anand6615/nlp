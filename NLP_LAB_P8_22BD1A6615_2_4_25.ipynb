{
 "cells": [
  {
   "cell_type": "code",
   "execution_count": 3,
   "metadata": {},
   "outputs": [
    {
     "name": "stdout",
     "output_type": "stream",
     "text": [
      "Requirement already satisfied: nltk in d:\\myenv\\lib\\site-packages (3.9.1)\n",
      "Requirement already satisfied: pandas in d:\\myenv\\lib\\site-packages (2.2.3)\n",
      "Requirement already satisfied: scikit-learn in d:\\myenv\\lib\\site-packages (1.6.0)\n",
      "Requirement already satisfied: matplotlib in d:\\myenv\\lib\\site-packages (3.9.3)\n",
      "Requirement already satisfied: seaborn in d:\\myenv\\lib\\site-packages (0.13.2)\n",
      "Requirement already satisfied: click in d:\\myenv\\lib\\site-packages (from nltk) (8.1.7)\n",
      "Requirement already satisfied: joblib in d:\\myenv\\lib\\site-packages (from nltk) (1.4.2)\n",
      "Requirement already satisfied: regex>=2021.8.3 in d:\\myenv\\lib\\site-packages (from nltk) (2024.11.6)\n",
      "Requirement already satisfied: tqdm in d:\\myenv\\lib\\site-packages (from nltk) (4.67.1)\n",
      "Requirement already satisfied: numpy>=1.26.0 in d:\\myenv\\lib\\site-packages (from pandas) (1.26.3)\n",
      "Requirement already satisfied: python-dateutil>=2.8.2 in d:\\myenv\\lib\\site-packages (from pandas) (2.9.0.post0)\n",
      "Requirement already satisfied: pytz>=2020.1 in d:\\myenv\\lib\\site-packages (from pandas) (2024.2)\n",
      "Requirement already satisfied: tzdata>=2022.7 in d:\\myenv\\lib\\site-packages (from pandas) (2024.2)\n",
      "Requirement already satisfied: scipy>=1.6.0 in d:\\myenv\\lib\\site-packages (from scikit-learn) (1.13.1)\n",
      "Requirement already satisfied: threadpoolctl>=3.1.0 in d:\\myenv\\lib\\site-packages (from scikit-learn) (3.5.0)\n",
      "Requirement already satisfied: contourpy>=1.0.1 in d:\\myenv\\lib\\site-packages (from matplotlib) (1.3.1)\n",
      "Requirement already satisfied: cycler>=0.10 in d:\\myenv\\lib\\site-packages (from matplotlib) (0.12.1)\n",
      "Requirement already satisfied: fonttools>=4.22.0 in d:\\myenv\\lib\\site-packages (from matplotlib) (4.55.3)\n",
      "Requirement already satisfied: kiwisolver>=1.3.1 in d:\\myenv\\lib\\site-packages (from matplotlib) (1.4.7)\n",
      "Requirement already satisfied: packaging>=20.0 in d:\\myenv\\lib\\site-packages (from matplotlib) (24.2)\n",
      "Requirement already satisfied: pillow>=8 in d:\\myenv\\lib\\site-packages (from matplotlib) (10.2.0)\n",
      "Requirement already satisfied: pyparsing>=2.3.1 in d:\\myenv\\lib\\site-packages (from matplotlib) (3.2.0)\n",
      "Requirement already satisfied: six>=1.5 in d:\\myenv\\lib\\site-packages (from python-dateutil>=2.8.2->pandas) (1.17.0)\n",
      "Requirement already satisfied: colorama in d:\\myenv\\lib\\site-packages (from click->nltk) (0.4.6)\n"
     ]
    },
    {
     "name": "stderr",
     "output_type": "stream",
     "text": [
      "[nltk_data] Downloading package stopwords to\n",
      "[nltk_data]     C:\\Users\\anand\\AppData\\Roaming\\nltk_data...\n",
      "[nltk_data]   Package stopwords is already up-to-date!\n",
      "[nltk_data] Downloading package punkt to\n",
      "[nltk_data]     C:\\Users\\anand\\AppData\\Roaming\\nltk_data...\n",
      "[nltk_data]   Package punkt is already up-to-date!\n",
      "\n",
      "[notice] A new release of pip is available: 24.3.1 -> 25.0.1\n",
      "[notice] To update, run: python.exe -m pip install --upgrade pip\n"
     ]
    },
    {
     "data": {
      "text/plain": [
       "True"
      ]
     },
     "execution_count": 3,
     "metadata": {},
     "output_type": "execute_result"
    }
   ],
   "source": [
    "!pip install nltk pandas scikit-learn matplotlib seaborn\n",
    "\n",
    "import pandas as pd\n",
    "import numpy as np\n",
    "import re\n",
    "import string\n",
    "import nltk\n",
    "from nltk.corpus import stopwords\n",
    "from nltk.tokenize import word_tokenize\n",
    "from sklearn.model_selection import train_test_split\n",
    "from sklearn.feature_extraction.text import CountVectorizer, TfidfVectorizer\n",
    "from sklearn.naive_bayes import MultinomialNB\n",
    "from sklearn.linear_model import LogisticRegression\n",
    "from sklearn.svm import SVC\n",
    "from sklearn.metrics import accuracy_score, classification_report, confusion_matrix\n",
    "import matplotlib.pyplot as plt\n",
    "import seaborn as sns\n",
    "\n",
    "nltk.download('stopwords')\n",
    "nltk.download('punkt')"
   ]
  },
  {
   "cell_type": "markdown",
   "metadata": {},
   "source": [
    "We're using a sample of **IMDB movie reviews** labeled as:\n",
    "- `1` for Positive reviews\n",
    "- `0` for Negative reviews\n",
    "\n",
    "Key characteristics:\n",
    "- 2000 samples (balanced classes)\n",
    "- Raw text needs preprocessing"
   ]
  },
  {
   "cell_type": "code",
   "execution_count": null,
   "metadata": {},
   "outputs": [
    {
     "name": "stdout",
     "output_type": "stream",
     "text": [
      "Dataset shape: (2000, 2)\n",
      "\n",
      "Label distribution:\n",
      "label\n",
      "1    1039\n",
      "0     961\n",
      "Name: count, dtype: int64\n"
     ]
    },
    {
     "data": {
      "text/html": [
       "<div>\n",
       "<style scoped>\n",
       "    .dataframe tbody tr th:only-of-type {\n",
       "        vertical-align: middle;\n",
       "    }\n",
       "\n",
       "    .dataframe tbody tr th {\n",
       "        vertical-align: top;\n",
       "    }\n",
       "\n",
       "    .dataframe thead th {\n",
       "        text-align: right;\n",
       "    }\n",
       "</style>\n",
       "<table border=\"1\" class=\"dataframe\">\n",
       "  <thead>\n",
       "    <tr style=\"text-align: right;\">\n",
       "      <th></th>\n",
       "      <th>text</th>\n",
       "      <th>label</th>\n",
       "    </tr>\n",
       "  </thead>\n",
       "  <tbody>\n",
       "    <tr>\n",
       "      <th>468</th>\n",
       "      <td>overly melodramatic</td>\n",
       "      <td>0</td>\n",
       "    </tr>\n",
       "    <tr>\n",
       "      <th>1956</th>\n",
       "      <td>lrb westbrook rrb makes a wonderful subject fo...</td>\n",
       "      <td>1</td>\n",
       "    </tr>\n",
       "    <tr>\n",
       "      <th>800</th>\n",
       "      <td>mama africa pretty much delivers on that promise</td>\n",
       "      <td>1</td>\n",
       "    </tr>\n",
       "    <tr>\n",
       "      <th>6474</th>\n",
       "      <td>sad nonsense , this</td>\n",
       "      <td>0</td>\n",
       "    </tr>\n",
       "    <tr>\n",
       "      <th>2389</th>\n",
       "      <td>easily the most thoughtful fictional examinati...</td>\n",
       "      <td>1</td>\n",
       "    </tr>\n",
       "    <tr>\n",
       "      <th>2647</th>\n",
       "      <td>tara reid plays a college journalist , but she...</td>\n",
       "      <td>0</td>\n",
       "    </tr>\n",
       "    <tr>\n",
       "      <th>5782</th>\n",
       "      <td>a classy , sprightly spin on film</td>\n",
       "      <td>1</td>\n",
       "    </tr>\n",
       "    <tr>\n",
       "      <th>1729</th>\n",
       "      <td>hardly a film that comes along every day</td>\n",
       "      <td>1</td>\n",
       "    </tr>\n",
       "    <tr>\n",
       "      <th>5933</th>\n",
       "      <td>watching this film , one is left with the ines...</td>\n",
       "      <td>1</td>\n",
       "    </tr>\n",
       "    <tr>\n",
       "      <th>6558</th>\n",
       "      <td>that ` alabama ' manages to be pleasant in spi...</td>\n",
       "      <td>1</td>\n",
       "    </tr>\n",
       "  </tbody>\n",
       "</table>\n",
       "</div>"
      ],
      "text/plain": [
       "                                                   text  label\n",
       "468                                 overly melodramatic      0\n",
       "1956  lrb westbrook rrb makes a wonderful subject fo...      1\n",
       "800    mama africa pretty much delivers on that promise      1\n",
       "6474                                sad nonsense , this      0\n",
       "2389  easily the most thoughtful fictional examinati...      1\n",
       "2647  tara reid plays a college journalist , but she...      0\n",
       "5782                  a classy , sprightly spin on film      1\n",
       "1729           hardly a film that comes along every day      1\n",
       "5933  watching this film , one is left with the ines...      1\n",
       "6558  that ` alabama ' manages to be pleasant in spi...      1"
      ]
     },
     "execution_count": 11,
     "metadata": {},
     "output_type": "execute_result"
    }
   ],
   "source": [
    "# Load sample dataset (IMDB reviews sample)\n",
    "url = \"https://raw.githubusercontent.com/clairett/pytorch-sentiment-classification/master/data/SST2/train.tsv\"\n",
    "df = pd.read_csv(url, sep='\\t', names=['text', 'label'])\n",
    "df = df.sample(2000, random_state=42)  # Using a subset for faster execution\n",
    "\n",
    "# Display dataset info\n",
    "print(f\"Dataset shape: {df.shape}\")\n",
    "print(\"\\nLabel distribution:\")\n",
    "print(df['label'].value_counts())\n",
    "df.head(10)"
   ]
  },
  {
   "cell_type": "markdown",
   "metadata": {},
   "source": [
    "Essential steps to clean text data:\n",
    "1. **Lowercasing**: Convert all text to uniform case\n",
    "2. **HTML/URL Removal**: Strip web artifacts\n",
    "3. **Number Removal**: Digits often don't help sentiment analysis\n",
    "4. **Punctuation Removal**: !, ? etc. don't carry meaning in BoW\n",
    "5. **Stopword Removal**: Filter out common words (the, is, etc.)"
   ]
  },
  {
   "cell_type": "code",
   "execution_count": 5,
   "metadata": {},
   "outputs": [
    {
     "data": {
      "text/html": [
       "<div>\n",
       "<style scoped>\n",
       "    .dataframe tbody tr th:only-of-type {\n",
       "        vertical-align: middle;\n",
       "    }\n",
       "\n",
       "    .dataframe tbody tr th {\n",
       "        vertical-align: top;\n",
       "    }\n",
       "\n",
       "    .dataframe thead th {\n",
       "        text-align: right;\n",
       "    }\n",
       "</style>\n",
       "<table border=\"1\" class=\"dataframe\">\n",
       "  <thead>\n",
       "    <tr style=\"text-align: right;\">\n",
       "      <th></th>\n",
       "      <th>text</th>\n",
       "      <th>clean_text</th>\n",
       "    </tr>\n",
       "  </thead>\n",
       "  <tbody>\n",
       "    <tr>\n",
       "      <th>468</th>\n",
       "      <td>overly melodramatic</td>\n",
       "      <td>overly melodramatic</td>\n",
       "    </tr>\n",
       "    <tr>\n",
       "      <th>1956</th>\n",
       "      <td>lrb westbrook rrb makes a wonderful subject fo...</td>\n",
       "      <td>lrb westbrook rrb makes wonderful subject camera</td>\n",
       "    </tr>\n",
       "    <tr>\n",
       "      <th>800</th>\n",
       "      <td>mama africa pretty much delivers on that promise</td>\n",
       "      <td>mama africa pretty much delivers promise</td>\n",
       "    </tr>\n",
       "    <tr>\n",
       "      <th>6474</th>\n",
       "      <td>sad nonsense , this</td>\n",
       "      <td>sad nonsense</td>\n",
       "    </tr>\n",
       "    <tr>\n",
       "      <th>2389</th>\n",
       "      <td>easily the most thoughtful fictional examinati...</td>\n",
       "      <td>easily thoughtful fictional examination root c...</td>\n",
       "    </tr>\n",
       "  </tbody>\n",
       "</table>\n",
       "</div>"
      ],
      "text/plain": [
       "                                                   text  \\\n",
       "468                                 overly melodramatic   \n",
       "1956  lrb westbrook rrb makes a wonderful subject fo...   \n",
       "800    mama africa pretty much delivers on that promise   \n",
       "6474                                sad nonsense , this   \n",
       "2389  easily the most thoughtful fictional examinati...   \n",
       "\n",
       "                                             clean_text  \n",
       "468                                 overly melodramatic  \n",
       "1956   lrb westbrook rrb makes wonderful subject camera  \n",
       "800            mama africa pretty much delivers promise  \n",
       "6474                                       sad nonsense  \n",
       "2389  easily thoughtful fictional examination root c...  "
      ]
     },
     "execution_count": 5,
     "metadata": {},
     "output_type": "execute_result"
    }
   ],
   "source": [
    "def preprocess_text(text):\n",
    "    # Convert to lowercase\n",
    "    text = text.lower()\n",
    "    \n",
    "    # Remove HTML tags if any\n",
    "    text = re.sub(r'<[^>]+>', '', text)\n",
    "    \n",
    "    # Remove URLs\n",
    "    text = re.sub(r'https?://\\S+|www\\.\\S+', '', text)\n",
    "    \n",
    "    # Remove numbers\n",
    "    text = re.sub(r'\\d+', '', text)\n",
    "    \n",
    "    # Remove punctuation\n",
    "    text = text.translate(str.maketrans('', '', string.punctuation))\n",
    "    \n",
    "    # Remove extra whitespace\n",
    "    text = ' '.join(text.split())\n",
    "    \n",
    "    # Tokenize and remove stopwords\n",
    "    words = word_tokenize(text)\n",
    "    stop_words = set(stopwords.words('english'))\n",
    "    words = [word for word in words if word not in stop_words]\n",
    "    \n",
    "    return \" \".join(words)\n",
    "\n",
    "# Apply preprocessing\n",
    "df['clean_text'] = df['text'].apply(preprocess_text)\n",
    "df[['text', 'clean_text']].head()"
   ]
  },
  {
   "cell_type": "markdown",
   "metadata": {},
   "source": [
    "How text becomes numbers:\n",
    "1. **Tokenization**: Split text into words\n",
    "2. **Vocabulary Creation**: Unique words across all documents\n",
    "3. **Vectorization**: Each document becomes a vector of word counts"
   ]
  },
  {
   "cell_type": "code",
   "execution_count": 6,
   "metadata": {},
   "outputs": [
    {
     "name": "stdout",
     "output_type": "stream",
     "text": [
      "Training samples: 1600\n",
      "Test samples: 400\n",
      "Number of features: 5000\n"
     ]
    }
   ],
   "source": [
    "# Create Bag-of-Words features\n",
    "vectorizer = CountVectorizer(max_features=5000)  # Limit to top 5000 words\n",
    "X = vectorizer.fit_transform(df['clean_text'])\n",
    "y = df['label']\n",
    "\n",
    "# Split data\n",
    "X_train, X_test, y_train, y_test = train_test_split(\n",
    "    X, y, test_size=0.2, random_state=42, stratify=y\n",
    ")\n",
    "\n",
    "print(f\"Training samples: {X_train.shape[0]}\")\n",
    "print(f\"Test samples: {X_test.shape[0]}\")\n",
    "print(f\"Number of features: {X_train.shape[1]}\")"
   ]
  },
  {
   "cell_type": "markdown",
   "metadata": {},
   "source": [
    "Why we use it first:\n",
    "- Fast training/prediction\n",
    "- Works well with high-dimensional text data\n",
    "- Handles sparse BoW vectors effectively\n",
    "\n",
    "**Mathematics**:  \n",
    "Applies Bayes' Theorem with \"naïve\" assumption that features (words) are conditionally independent"
   ]
  },
  {
   "cell_type": "code",
   "execution_count": 7,
   "metadata": {},
   "outputs": [
    {
     "name": "stdout",
     "output_type": "stream",
     "text": [
      "Naïve Bayes Classifier Results:\n",
      "Accuracy: 0.735\n",
      "\n",
      "Classification Report:\n",
      "               precision    recall  f1-score   support\n",
      "\n",
      "           0       0.72      0.73      0.73       192\n",
      "           1       0.75      0.74      0.74       208\n",
      "\n",
      "    accuracy                           0.73       400\n",
      "   macro avg       0.73      0.73      0.73       400\n",
      "weighted avg       0.74      0.73      0.74       400\n",
      "\n"
     ]
    },
    {
     "data": {
      "image/png": "[encoded data removed]",
      "text/plain": [
       "<Figure size 600x400 with 2 Axes>"
      ]
     },
     "metadata": {},
     "output_type": "display_data"
    }
   ],
   "source": [
    "# Train Naïve Bayes\n",
    "nb_classifier = MultinomialNB()\n",
    "nb_classifier.fit(X_train, y_train)\n",
    "\n",
    "# Make predictions\n",
    "y_pred = nb_classifier.predict(X_test)\n",
    "\n",
    "# Evaluate\n",
    "print(\"Naïve Bayes Classifier Results:\")\n",
    "print(\"Accuracy:\", accuracy_score(y_test, y_pred))\n",
    "print(\"\\nClassification Report:\\n\", classification_report(y_test, y_pred))\n",
    "\n",
    "# Confusion Matrix\n",
    "cm = confusion_matrix(y_test, y_pred)\n",
    "plt.figure(figsize=(6,4))\n",
    "sns.heatmap(cm, annot=True, fmt='d', cmap='Blues', \n",
    "            xticklabels=['Negative', 'Positive'], \n",
    "            yticklabels=['Negative', 'Positive'])\n",
    "plt.xlabel('Predicted')\n",
    "plt.ylabel('Actual')\n",
    "plt.title('Confusion Matrix - Naïve Bayes')\n",
    "plt.show()"
   ]
  },
  {
   "cell_type": "code",
   "execution_count": 8,
   "metadata": {},
   "outputs": [
    {
     "name": "stdout",
     "output_type": "stream",
     "text": [
      "\n",
      "TF-IDF Representation:\n",
      "Training samples: 1600\n",
      "Test samples: 400\n",
      "Number of features: 5000\n"
     ]
    }
   ],
   "source": [
    "# Create TF-IDF features\n",
    "tfidf_vectorizer = TfidfVectorizer(max_features=5000)\n",
    "X_tfidf = tfidf_vectorizer.fit_transform(df['clean_text'])\n",
    "\n",
    "# Split data\n",
    "X_train_tfidf, X_test_tfidf, y_train_tfidf, y_test_tfidf = train_test_split(\n",
    "    X_tfidf, y, test_size=0.2, random_state=42, stratify=y\n",
    ")\n",
    "\n",
    "print(\"\\nTF-IDF Representation:\")\n",
    "print(f\"Training samples: {X_train_tfidf.shape[0]}\")\n",
    "print(f\"Test samples: {X_test_tfidf.shape[0]}\")\n",
    "print(f\"Number of features: {X_train_tfidf.shape[1]}\")"
   ]
  },
  {
   "cell_type": "markdown",
   "metadata": {},
   "source": [
    "## Classifier Comparison\n",
    "\n",
    "Three algorithms tested on our IMDB sentiment data:\n",
    "\n",
    "1. **Naïve Bayes**:  \n",
    "   `A probabilistic classifier that assumes feature independence, ideal for our high-dimensional BoW vectors`  \n",
    "   - ⚡ Fastest training on our 5000-feature text data  \n",
    "   - 📊 Works well even with limited training samples  \n",
    "   - ⚖️ Naturally handles multi-class if extended beyond sentiment  \n",
    "\n",
    "2. **Logistic Regression**:  \n",
    "   `A linear model that estimates probability using sigmoid function, effective for our binary sentiment task`  \n",
    "   - 📈 Learns feature importance (can identify most positive/negative words)  \n",
    "   - 🎯 Regularization helps prevent overfitting to our text features  \n",
    "   - 🔍 Can extract coefficients to interpret sentiment drivers  \n",
    "\n",
    "3. **SVM (Support Vector Machines)**:  \n",
    "   `Finds the maximum-margin decision boundary between positive/negative reviews`  \n",
    "   - ✨ Kernel trick helps with non-linear relationships in TF-IDF space  \n",
    "   - 🛡️ Robust against overfitting in our high-dimensional space  \n",
    "   - ⏳ Slower but often more accurate than Naïve Bayes for text  "
   ]
  },
  {
   "cell_type": "code",
   "execution_count": 9,
   "metadata": {},
   "outputs": [
    {
     "name": "stdout",
     "output_type": "stream",
     "text": [
      "\n",
      "Naïve Bayes with TF-IDF Results:\n",
      "Accuracy: 0.715\n",
      "              precision    recall  f1-score   support\n",
      "\n",
      "           0       0.73      0.64      0.68       192\n",
      "           1       0.70      0.78      0.74       208\n",
      "\n",
      "    accuracy                           0.71       400\n",
      "   macro avg       0.72      0.71      0.71       400\n",
      "weighted avg       0.72      0.71      0.71       400\n",
      "\n"
     ]
    },
    {
     "data": {
      "image/png": "[encoded data removed]",
      "text/plain": [
       "<Figure size 600x400 with 2 Axes>"
      ]
     },
     "metadata": {},
     "output_type": "display_data"
    },
    {
     "name": "stdout",
     "output_type": "stream",
     "text": [
      "\n",
      "Logistic Regression with TF-IDF Results:\n",
      "Accuracy: 0.705\n",
      "              precision    recall  f1-score   support\n",
      "\n",
      "           0       0.71      0.65      0.68       192\n",
      "           1       0.70      0.76      0.73       208\n",
      "\n",
      "    accuracy                           0.70       400\n",
      "   macro avg       0.71      0.70      0.70       400\n",
      "weighted avg       0.71      0.70      0.70       400\n",
      "\n"
     ]
    },
    {
     "data": {
      "image/png": "[encoded data removed]",
      "text/plain": [
       "<Figure size 600x400 with 2 Axes>"
      ]
     },
     "metadata": {},
     "output_type": "display_data"
    },
    {
     "name": "stdout",
     "output_type": "stream",
     "text": [
      "\n",
      "SVM with TF-IDF Results:\n",
      "Accuracy: 0.7175\n",
      "              precision    recall  f1-score   support\n",
      "\n",
      "           0       0.72      0.67      0.69       192\n",
      "           1       0.71      0.76      0.74       208\n",
      "\n",
      "    accuracy                           0.72       400\n",
      "   macro avg       0.72      0.72      0.72       400\n",
      "weighted avg       0.72      0.72      0.72       400\n",
      "\n"
     ]
    },
    {
     "data": {
      "image/png": "[encoded data removed]",
      "text/plain": [
       "<Figure size 600x400 with 2 Axes>"
      ]
     },
     "metadata": {},
     "output_type": "display_data"
    }
   ],
   "source": [
    "classifiers = {\n",
    "    \"Naïve Bayes\": MultinomialNB(),\n",
    "    \"Logistic Regression\": LogisticRegression(max_iter=1000),\n",
    "    \"SVM\": SVC(kernel='linear')\n",
    "}\n",
    "\n",
    "for name, clf in classifiers.items():\n",
    "    # Train classifier\n",
    "    clf.fit(X_train_tfidf, y_train_tfidf)\n",
    "    y_pred = clf.predict(X_test_tfidf)\n",
    "    \n",
    "    # Evaluate\n",
    "    print(f\"\\n{name} with TF-IDF Results:\")\n",
    "    print(\"Accuracy:\", accuracy_score(y_test_tfidf, y_pred))\n",
    "    print(classification_report(y_test_tfidf, y_pred))\n",
    "    \n",
    "    # Confusion Matrix\n",
    "    cm = confusion_matrix(y_test_tfidf, y_pred)\n",
    "    plt.figure(figsize=(6,4))\n",
    "    sns.heatmap(cm, annot=True, fmt='d', cmap='Blues', \n",
    "                xticklabels=['Negative', 'Positive'], \n",
    "                yticklabels=['Negative', 'Positive'])\n",
    "    plt.xlabel('Predicted')\n",
    "    plt.ylabel('Actual')\n",
    "    plt.title(f'Confusion Matrix - {name}')\n",
    "    plt.show()"
   ]
  },
  {
   "cell_type": "code",
   "execution_count": 10,
   "metadata": {},
   "outputs": [
    {
     "name": "stdout",
     "output_type": "stream",
     "text": [
      "Prediction: Positive\n",
      "Prediction: Negative\n"
     ]
    }
   ],
   "source": [
    "def predict_sentiment(text, model, vectorizer):\n",
    "    # Preprocess\n",
    "    clean_text = preprocess_text(text)\n",
    "    # Transform\n",
    "    features = vectorizer.transform([clean_text])\n",
    "    # Predict\n",
    "    prediction = model.predict(features)\n",
    "    return \"Positive\" if prediction[0] == 1 else \"Negative\"\n",
    "\n",
    "# Test with sample text\n",
    "sample_text = \"This movie was absolutely fantastic! The acting was superb and the plot was engaging.\"\n",
    "print(f\"Prediction: {predict_sentiment(sample_text, nb_classifier, vectorizer)}\")\n",
    "\n",
    "sample_text = \"I hated every minute of this film. Terrible acting and boring story.\"\n",
    "print(f\"Prediction: {predict_sentiment(sample_text, nb_classifier, vectorizer)}\")"
   ]
  },
  {
   "cell_type": "code",
   "execution_count": null,
   "metadata": {},
   "outputs": [
    {
     "name": "stdout",
     "output_type": "stream",
     "text": [
      "POSITIVE\n"
     ]
    }
   ],
   "source": [
    "\n",
    "from sklearn.svm import SVC\n",
    "model = SVC(kernel='linear')\n",
    "model.fit(X_train_tfidf, y_train_tfidf)\n",
    "\n",
    "def predict_sentiment(sentence):\n",
    "    cleaned = preprocess_text(sentence)\n",
    "    features = tfidf_vectorizer.transform([cleaned])\n",
    "    prediction = model.predict(features)[0]\n",
    "    print(\"POSITIVE\" if prediction == 1 else \"NEGATIVE\")\n",
    "\n",
    "predict_sentiment(\"This movie was fantastic!\")"
   ]
  },
  {
   "cell_type": "code",
   "execution_count": null,
   "metadata": {},
   "outputs": [],
   "source": []
  }
 ],
 "metadata": {
  "kernelspec": {
   "display_name": "myenv",
   "language": "python",
   "name": "python3"
  },
  "language_info": {
   "codemirror_mode": {
    "name": "ipython",
    "version": 3
   },
   "file_extension": ".py",
   "mimetype": "text/x-python",
   "name": "python",
   "nbconvert_exporter": "python",
   "pygments_lexer": "ipython3",
   "version": "3.12.10"
  }
 },
 "nbformat": 4,
 "nbformat_minor": 2
}
