{
 "cells": [
  {
   "cell_type": "code",
   "execution_count": null,
   "metadata": {},
   "outputs": [],
   "source": [
    "import requests\n",
    "import spacy"
   ]
  },
  {
   "cell_type": "code",
   "execution_count": 16,
   "metadata": {},
   "outputs": [
    {
     "name": "stdout",
     "output_type": "stream",
     "text": [
      "Linux is a family of open-source Unix-like operating systems based on the Linux kernel, an operating system kernel first released on September 17, 1991, by Linus Torvalds. Linux is typically packaged as a Linux distribution (distro), which includes the kernel and supporting system software and libraries—most of which are provided by third parties—to create a complete operating system, designed as a clone of Unix and released under the copyleft GPL license.\n"
     ]
    }
   ],
   "source": [
    "url = \"https://en.wikipedia.org/api/rest_v1/page/summary/Linux\"\n",
    "\n",
    "\n",
    "response = requests.get(url)\n",
    "\n",
    "text = response.json()[\"extract\"]\n",
    "\n",
    "print(text)"
   ]
  },
  {
   "cell_type": "code",
   "execution_count": 17,
   "metadata": {},
   "outputs": [],
   "source": [
    "nlp = spacy.load(\"en_core_web_sm\")"
   ]
  },
  {
   "cell_type": "code",
   "execution_count": null,
   "metadata": {},
   "outputs": [],
   "source": [
    "doc = nlp(text)"
   ]
  },
  {
   "cell_type": "code",
   "execution_count": null,
   "metadata": {},
   "outputs": [
    {
     "name": "stdout",
     "output_type": "stream",
     "text": [
      "token=Linux, type=PERSON\n",
      "token=Linux, type=PERSON\n",
      "token=first, type=ORDINAL\n",
      "token=September, type=DATE\n",
      "token=17, type=DATE\n",
      "token=,, type=DATE\n",
      "token=1991, type=DATE\n",
      "token=Linus, type=PERSON\n",
      "token=Torvalds, type=PERSON\n",
      "token=Linux, type=PERSON\n",
      "token=Linux, type=PERSON\n",
      "token=third, type=ORDINAL\n",
      "token=GPL, type=ORG\n"
     ]
    },
    {
     "ename": "",
     "evalue": "",
     "output_type": "error",
     "traceback": [
      "\u001b[1;31mThe Kernel crashed while executing code in the current cell or a previous cell. \n",
      "\u001b[1;31mPlease review the code in the cell(s) to identify a possible cause of the failure. \n",
      "\u001b[1;31mClick <a href='https://aka.ms/vscodeJupyterKernelCrash'>here</a> for more info. \n",
      "\u001b[1;31mView Jupyter <a href='command:jupyter.viewOutput'>log</a> for further details."
     ]
    }
   ],
   "source": [
    "for token in doc[:]:\n",
    "\tif(token.ent_type_ != \"\"):\n",
    "\t\tprint(f\"token={token}, type={token.ent_type_}\")"
   ]
  },
  {
   "cell_type": "code",
   "execution_count": 19,
   "metadata": {},
   "outputs": [],
   "source": [
    "tokens = [token.text for token in doc]\n",
    "stop_words = [token.text for token in doc if token.is_stop]"
   ]
  },
  {
   "cell_type": "code",
   "execution_count": 20,
   "metadata": {},
   "outputs": [
    {
     "name": "stdout",
     "output_type": "stream",
     "text": [
      "Tokens:\t\t['Linux', 'is', 'a', 'family', 'of', 'open', '-', 'source', 'Unix', '-', 'like', 'operating', 'systems', 'based', 'on', 'the', 'Linux', 'kernel', ',', 'an', 'operating', 'system', 'kernel', 'first', 'released', 'on', 'September', '17', ',', '1991', ',', 'by', 'Linus', 'Torvalds', '.', 'Linux', 'is', 'typically', 'packaged', 'as', 'a', 'Linux', 'distribution', '(', 'distro', ')', ',', 'which', 'includes', 'the', 'kernel', 'and', 'supporting', 'system', 'software', 'and', 'libraries', '—', 'most', 'of', 'which', 'are', 'provided', 'by', 'third', 'parties', '—', 'to', 'create', 'a', 'complete', 'operating', 'system', ',', 'designed', 'as', 'a', 'clone', 'of', 'Unix', 'and', 'released', 'under', 'the', 'copyleft', 'GPL', 'license', '.']\n",
      "Stop words:\t['is', 'a', 'of', 'on', 'the', 'an', 'first', 'on', 'by', 'is', 'as', 'a', 'which', 'the', 'and', 'and', 'most', 'of', 'which', 'are', 'by', 'third', 'to', 'a', 'as', 'a', 'of', 'and', 'under', 'the']\n"
     ]
    }
   ],
   "source": [
    "print(f\"Tokens:\\t\\t{tokens}\")\n",
    "print(f\"Stop words:\\t{stop_words}\")"
   ]
  },
  {
   "cell_type": "code",
   "execution_count": 21,
   "metadata": {},
   "outputs": [],
   "source": [
    "total_tokens = len(tokens)\n",
    "stop_word_count = len(stop_words)\n",
    "percentage_stop_words = (stop_word_count / total_tokens) * 100"
   ]
  },
  {
   "cell_type": "code",
   "execution_count": 22,
   "metadata": {},
   "outputs": [
    {
     "name": "stdout",
     "output_type": "stream",
     "text": [
      "Total words: 88\n",
      "Stop words: 30\n",
      "Percentage of stop words: 34.09%\n"
     ]
    }
   ],
   "source": [
    "print(f\"Total words: {total_tokens}\")\n",
    "print(f\"Stop words: {stop_word_count}\")\n",
    "print(f\"Percentage of stop words: {percentage_stop_words:.2f}%\")"
   ]
  },
  {
   "cell_type": "code",
   "execution_count": 23,
   "metadata": {},
   "outputs": [
    {
     "data": {
      "text/plain": [
       "[Linux is a family of open-source Unix-like operating systems based on the Linux kernel, an operating system kernel first released on September 17, 1991, by Linus Torvalds.,\n",
       " Linux is typically packaged as a Linux distribution (distro), which includes the kernel and supporting system software and libraries—most of which are provided by third parties—to create a complete operating system, designed as a clone of Unix and released under the copyleft GPL license.]"
      ]
     },
     "execution_count": 23,
     "metadata": {},
     "output_type": "execute_result"
    }
   ],
   "source": [
    "sentences = [sent for sent in doc.sents]\n",
    "\n",
    "sentences"
   ]
  },
  {
   "cell_type": "code",
   "execution_count": null,
   "metadata": {},
   "outputs": [],
   "source": []
  }
 ],
 "metadata": {
  "kernelspec": {
   "display_name": "venv",
   "language": "python",
   "name": "python3"
  },
  "language_info": {
   "codemirror_mode": {
    "name": "ipython",
    "version": 3
   },
   "file_extension": ".py",
   "mimetype": "text/x-python",
   "name": "python",
   "nbconvert_exporter": "python",
   "pygments_lexer": "ipython3",
   "version": "3.10.7"
  }
 },
 "nbformat": 4,
 "nbformat_minor": 2
}
